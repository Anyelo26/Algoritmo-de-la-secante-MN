{
  "nbformat": 4,
  "nbformat_minor": 0,
  "metadata": {
    "colab": {
      "name": "m_secante.ipynb",
      "provenance": [],
      "collapsed_sections": [],
      "toc_visible": true,
      "authorship_tag": "ABX9TyOaYrekP8Pzc2ov1R5q5JRE",
      "include_colab_link": true
    },
    "kernelspec": {
      "name": "python3",
      "display_name": "Python 3"
    }
  },
  "cells": [
    {
      "cell_type": "markdown",
      "metadata": {
        "id": "view-in-github",
        "colab_type": "text"
      },
      "source": [
        "<a href=\"https://colab.research.google.com/github/Anyelo26/SOFTWARE_NUMERICOS/blob/main/m_secante.ipynb\" target=\"_parent\"><img src=\"https://colab.research.google.com/assets/colab-badge.svg\" alt=\"Open In Colab\"/></a>"
      ]
    },
    {
      "cell_type": "markdown",
      "metadata": {
        "id": "_xoyOAvV-ce5"
      },
      "source": [
        "***CÁLCULO DE LAS RAICES DE UN POLINOMIO CON EL METODO DE LA SECANTE***"
      ]
    },
    {
      "cell_type": "code",
      "metadata": {
        "id": "joI1zwgF0Jc6",
        "outputId": "b3bcc704-a3f3-463d-d000-0327c93be8fc",
        "colab": {
          "base_uri": "https://localhost:8080/",
          "height": 323
        }
      },
      "source": [
        "from math import*\n",
        "#las funciones deberia \n",
        "def trig(x):\n",
        "  return sin(2/x)\n",
        "def pol(x):\n",
        "  return x**3-2\n",
        "#funcion,numero anterior,numero actual,tolerancia,numero maximo de iteraciones\n",
        "def secante(funcion,p0,p1,tolerancia,n):\n",
        "  i=2\n",
        "  while i<=n:\n",
        "    p=p1-(funcion(p1)*(p1-p0))/(funcion(p1)-funcion(p0))  \n",
        "    print(\"Iteracion: \", i, \"; raiz: \", p)\n",
        "    if abs(p1-p0)<tolerancia:\n",
        "      return p\n",
        "    p0=p1\n",
        "    p1=p\n",
        "    i+=1\n",
        "  print(\"Iteraciones agotadas\")\n",
        "  return\n",
        "\n",
        "secante(pol,-3.0,3.0,1e-10,100)    "
      ],
      "execution_count": 7,
      "outputs": [
        {
          "output_type": "stream",
          "text": [
            "Iteracion:  2 ; raiz:  0.22222222222222232\n",
            "Iteracion:  3 ; raiz:  0.4269377382465058\n",
            "Iteracion:  4 ; raiz:  6.3135587798870745\n",
            "Iteracion:  5 ; raiz:  0.4719127893029347\n",
            "Iteracion:  6 ; raiz:  0.5159156807818874\n",
            "Iteracion:  7 ; raiz:  3.0593854364249373\n",
            "Iteracion:  8 ; raiz:  0.6821611184543444\n",
            "Iteracion:  9 ; raiz:  0.8234082290824986\n",
            "Iteracion:  10 ; raiz:  1.6689758577485971\n",
            "Iteracion:  11 ; raiz:  1.1214257519662736\n",
            "Iteracion:  12 ; raiz:  1.2211263143050002\n",
            "Iteracion:  13 ; raiz:  1.2646211451107283\n",
            "Iteracion:  14 ; raiz:  1.2597736866418183\n",
            "Iteracion:  15 ; raiz:  1.2599205014829673\n",
            "Iteracion:  16 ; raiz:  1.2599210499590217\n",
            "Iteracion:  17 ; raiz:  1.2599210498948732\n",
            "Iteracion:  18 ; raiz:  1.2599210498948732\n"
          ],
          "name": "stdout"
        },
        {
          "output_type": "execute_result",
          "data": {
            "text/plain": [
              "1.2599210498948732"
            ]
          },
          "metadata": {
            "tags": []
          },
          "execution_count": 7
        }
      ]
    }
  ]
}